{
 "cells": [
  {
   "cell_type": "code",
   "execution_count": 51,
   "metadata": {},
   "outputs": [
    {
     "data": {
      "text/plain": [
       "Chennai Super Kings            6.0\n",
       "Mumbai Indians                 4.0\n",
       "Royal Challengers Bangalore    3.0\n",
       "dtype: float64"
      ]
     },
     "execution_count": 51,
     "metadata": {},
     "output_type": "execute_result"
    }
   ],
   "source": [
    "import numpy as np\n",
    "import pandas as pd\n",
    "data=pd.read_csv('matches - matches.csv') #importing dataframe\n",
    "data1=data.sort_values('date',ascending=False) #sorting the dataframe wrt date in descending order\n",
    "data2=data1.drop_duplicates(subset=['season']) #removing season duplicates from the data frame\n",
    "x=data2['team1'].value_counts()\n",
    "y=data2['team2'].value_counts()\n",
    "x.add(y,fill_value=0).sort_values(ascending=False).head(3)"
   ]
  }
 ],
 "metadata": {
  "kernelspec": {
   "display_name": "Python 3",
   "language": "python",
   "name": "python3"
  },
  "language_info": {
   "codemirror_mode": {
    "name": "ipython",
    "version": 3
   },
   "file_extension": ".py",
   "mimetype": "text/x-python",
   "name": "python",
   "nbconvert_exporter": "python",
   "pygments_lexer": "ipython3",
   "version": "3.7.1"
  }
 },
 "nbformat": 4,
 "nbformat_minor": 2
}
