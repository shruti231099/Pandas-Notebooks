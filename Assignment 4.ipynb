{
 "cells": [
  {
   "cell_type": "code",
   "execution_count": 21,
   "metadata": {},
   "outputs": [
    {
     "data": {
      "text/plain": [
       "batsman\n",
       "MS Dhoni          114\n",
       "KA Pollard         92\n",
       "AB de Villiers     86\n",
       "RG Sharma          81\n",
       "Yuvraj Singh       66\n",
       "Name: batsman_runs, dtype: int64"
      ]
     },
     "execution_count": 21,
     "metadata": {},
     "output_type": "execute_result"
    }
   ],
   "source": [
    "import numpy as np\n",
    "import pandas as pd\n",
    "deliveries=pd.read_csv('deliveries.csv')\n",
    "data=deliveries.groupby('over')\n",
    "mask=deliveries['over']>=16\n",
    "mask1=deliveries['batsman_runs']==6\n",
    "data1=deliveries[mask & mask1]\n",
    "data2=data1.groupby('batsman')['batsman_runs'].count()\n",
    "data2.sort_values(ascending=False).head()"
   ]
  },
  {
   "cell_type": "code",
   "execution_count": 22,
   "metadata": {},
   "outputs": [
    {
     "data": {
      "text/plain": [
       "bowler\n",
       "DW Steyn      103\n",
       "KA Pollard    100\n",
       "PP Ojha        98\n",
       "B Kumar        81\n",
       "IK Pathan      80\n",
       "Name: batsman_runs, dtype: int64"
      ]
     },
     "execution_count": 22,
     "metadata": {},
     "output_type": "execute_result"
    }
   ],
   "source": [
    "import numpy as np\n",
    "import pandas as pd\n",
    "deliveries=pd.read_csv('deliveries.csv')\n",
    "mask3=deliveries['batsman']=='MS Dhoni'\n",
    "data3=deliveries[mask3]\n",
    "data3.groupby('bowler')['batsman_runs'].sum().sort_values(ascending=False).head()"
   ]
  }
 ],
 "metadata": {
  "kernelspec": {
   "display_name": "Python 3",
   "language": "python",
   "name": "python3"
  },
  "language_info": {
   "codemirror_mode": {
    "name": "ipython",
    "version": 3
   },
   "file_extension": ".py",
   "mimetype": "text/x-python",
   "name": "python",
   "nbconvert_exporter": "python",
   "pygments_lexer": "ipython3",
   "version": "3.7.1"
  }
 },
 "nbformat": 4,
 "nbformat_minor": 2
}
